{
  "cells": [
    {
      "cell_type": "markdown",
      "metadata": {
        "id": "rnYlqJcylvtB"
      },
      "source": [
        "# AI Summer School 2025: Team Project Starter Code\n"
      ]
    },
    {
      "cell_type": "markdown",
      "metadata": {
        "id": "ncuZk510r-dy"
      },
      "source": [
        "### Notebook Setup"
      ]
    },
    {
      "cell_type": "code",
      "execution_count": null,
      "metadata": {
        "id": "l4OZh5Ger8F9"
      },
      "outputs": [],
      "source": [
        "!pip install ultralytics ttach"
      ]
    },
    {
      "cell_type": "markdown",
      "metadata": {
        "id": "dwjz0J8RrzuU"
      },
      "source": [
        "### Imports"
      ]
    },
    {
      "cell_type": "code",
      "execution_count": null,
      "metadata": {
        "id": "MdxAPns6rzcQ"
      },
      "outputs": [],
      "source": [
        "# Necessary imports needed for project\n",
        "\n",
        "## YOUR CODE HERE ##"
      ]
    },
    {
      "cell_type": "markdown",
      "metadata": {
        "id": "vjPLSQtbqX3x"
      },
      "source": [
        "### Helper Functions"
      ]
    },
    {
      "cell_type": "code",
      "execution_count": null,
      "metadata": {
        "id": "PI7dni1QxsKl"
      },
      "outputs": [],
      "source": [
        "def parse_voc_xml(xml_path):\n",
        "    import xml.etree.ElementTree as ET\n",
        "\n",
        "    # Parse the XML\n",
        "    tree = ET.parse(xml_path)\n",
        "    root = tree.getroot()\n",
        "\n",
        "    bboxes = []\n",
        "\n",
        "    # Find the objects in the XML\n",
        "    for obj in root.findall('object'):\n",
        "        # Get bounding boxes\n",
        "        bndbox = obj.find('bndbox')\n",
        "\n",
        "        # Extract xmin, xmax, ymin, ymax\n",
        "        xmin = int(bndbox.find('xmin').text)\n",
        "        xmax = int(bndbox.find('xmax').text)\n",
        "        ymin = int(bndbox.find('ymin').text)\n",
        "        ymax = int(bndbox.find('ymax').text)\n",
        "        bboxes.append([xmin, ymin, xmax, ymax])\n",
        "\n",
        "    return bboxes\n",
        "\n",
        "def mean_iou(xml1, xml2):\n",
        "    # Extract bounding box annotations\n",
        "    boxes1 = parse_voc_xml(xml1)\n",
        "    boxes2 = parse_voc_xml(xml2)\n",
        "\n",
        "    # First check: different number of boxes\n",
        "    if len(boxes1) != len(boxes2):\n",
        "        raise ValueError(f\"Different number of boxes in {xml1} and {xml2}\")\n",
        "\n",
        "    ious = []\n",
        "    # Calculate IoU for each pair of bounding boxes\n",
        "    for boxA, boxB in zip(boxes1, boxes2):\n",
        "        iou = calculate_iou(boxA, boxB)\n",
        "        ious.append(iou)\n",
        "\n",
        "    # Return average\n",
        "    return sum(ious) / len(ious) if ious else 0.0"
      ]
    },
    {
      "cell_type": "code",
      "execution_count": null,
      "metadata": {
        "id": "IpBO3MiEqV62"
      },
      "outputs": [],
      "source": [
        "def calculate_iou(box1, box2):\n",
        "    \"\"\"\n",
        "    Calculate the Intersection over Union (IoU) of two bounding boxes.\n",
        "    Each box is defined as a list of 4 elements [x1, y1, x2, y2]\n",
        "    where (x1, y1) is the top-left corner, and (x2, y2) is the bottom-right corner.\n",
        "    \"\"\"\n",
        "    x1 = max(box1[0], box2[0])\n",
        "    y1 = max(box1[1], box2[1])\n",
        "    x2 = min(box1[2], box2[2])\n",
        "    y2 = min(box1[3], box2[3])\n",
        "\n",
        "    # Calculate the area of intersection rectangle\n",
        "    inter_area = max(0, x2 - x1) * max(0, y2 - y1)\n",
        "\n",
        "    # Calculate the area of both bounding boxes\n",
        "    box1_area = (box1[2] - box1[0]) * (box1[3] - box1[1])\n",
        "    box2_area = (box2[2] - box2[0]) * (box2[3] - box2[1])\n",
        "\n",
        "    # Calculate the intersection over union by taking the intersection\n",
        "    # area and dividing it by the sum of prediction + ground-truth\n",
        "    # areas - the intersection area.\n",
        "    iou = inter_area / float(box1_area + box2_area - inter_area)\n",
        "\n",
        "    return iou"
      ]
    },
    {
      "cell_type": "markdown",
      "metadata": {
        "id": "WSVdYBual_zK"
      },
      "source": [
        "### Task 2: Inter-rater Agreement\n"
      ]
    },
    {
      "cell_type": "code",
      "execution_count": null,
      "metadata": {
        "id": "PpDC1prJta7E"
      },
      "outputs": [],
      "source": [
        "# Unzip annotations (you will need to change paths)\n",
        "\n",
        "## YOUR CODE HERE ##"
      ]
    },
    {
      "cell_type": "code",
      "execution_count": null,
      "metadata": {
        "id": "NbWv7gqYlrTc"
      },
      "outputs": [],
      "source": [
        "# Step 1: Set paths to annotator folders (you will need to change these to match your annotations)\n",
        "# annotator1 =\n",
        "# annotator2 =\n",
        "# ....\n",
        "\n",
        "## YOUR CODE HERE ##\n",
        "\n",
        "\n",
        "\n",
        "####\n",
        "\n",
        "# Step 2: Annotator pairings (if there are more than three in a group, you will need to modify this)\n",
        "# Should be a list of all possible pairings: Ex. [(annotator1, annotator1), (annotator1, annotator3), (annotator1, annotator4), (annotator2, annotator3)\n",
        "#                                                 (annotator2, annotator4), (annotator3, annotator4)]\n",
        "\n",
        "## YOUR CODE HERE ##\n",
        "annotator_pairs = None\n",
        "\n",
        "#####################\n",
        "\n",
        "inter_rater_agreement = []\n",
        "for pairing in annotator_pairs:\n",
        "    annotator1_folder, annotator2_folder = pairing\n",
        "    annotator1_files = [f for f in os.listdir(annotator1_folder) if f.endswith('.xml')]\n",
        "    annotator2_files = [f for f in os.listdir(annotator2_folder) if f.endswith('.xml')]\n",
        "\n",
        "    annotator1_files.sort()\n",
        "    annotator2_files.sort()\n",
        "\n",
        "    # Assumes same filenames across annotators\n",
        "    iou_list = []\n",
        "\n",
        "    for file1, file2 in zip(annotator1_files, annotator2_files):\n",
        "        xml_path1 = os.path.join(annotator1_folder, file1)\n",
        "        xml_path2 = os.path.join(annotator2_folder, file2)\n",
        "\n",
        "        image_iou = mean_iou(xml_path1, xml_path2)\n",
        "        iou_list.append(image_iou)\n",
        "\n",
        "    overall_mean_iou = sum(iou_list) / len(iou_list) if iou_list else 0.0\n",
        "    inter_rater_agreement.append(overall_mean_iou)\n",
        "\n",
        "print(f\"Mean Inter-rater agreement: {sum(inter_rater_agreement)/len(annotator_pairs):.4f}\")"
      ]
    },
    {
      "cell_type": "markdown",
      "metadata": {
        "id": "HMgzlpHgmGrn"
      },
      "source": [
        "### Task 5: Train YOLOv9 model"
      ]
    },
    {
      "cell_type": "code",
      "execution_count": null,
      "metadata": {
        "id": "h2P7hGWQ0Twc"
      },
      "outputs": [],
      "source": [
        "# Unzip annotated project dataset\n",
        "\n",
        "## YOUR CODE HERE ##"
      ]
    },
    {
      "cell_type": "code",
      "execution_count": null,
      "metadata": {
        "id": "jmwcyGvGnczK"
      },
      "outputs": [],
      "source": [
        "# Setup YOLOv9 Model and train\n",
        "\n",
        "## YOUR CODE HERE ###"
      ]
    },
    {
      "cell_type": "code",
      "execution_count": null,
      "metadata": {
        "id": "CbC8WbBlyTQc"
      },
      "outputs": [],
      "source": [
        "# Evaluate on validation set\n",
        "\n",
        "## YOUR CODE HERE ##"
      ]
    },
    {
      "cell_type": "markdown",
      "metadata": {
        "id": "PKvdxBm2nd2W"
      },
      "source": [
        "### Task 6: Evaluate your YOLOv9 model"
      ]
    },
    {
      "cell_type": "code",
      "execution_count": null,
      "metadata": {
        "id": "lEqzGQ7p1Bu7"
      },
      "outputs": [],
      "source": [
        "# Load best model\n",
        "\n",
        "## YOUR CODE HERE ##\n",
        "best_model_pth = None"
      ]
    },
    {
      "cell_type": "code",
      "execution_count": null,
      "metadata": {
        "id": "iGwlRVEmnh5E"
      },
      "outputs": [],
      "source": [
        "# Generate results for test set\n",
        "\n",
        "## YOUR CODE HERE ##"
      ]
    },
    {
      "cell_type": "code",
      "source": [
        "# Get paths for each of the images in the test set (Hint: Look at Task 2)\n",
        "\n",
        "## YOUR CODE HERE ##"
      ],
      "metadata": {
        "id": "FDrNtC9D8elE"
      },
      "execution_count": null,
      "outputs": []
    },
    {
      "cell_type": "code",
      "execution_count": null,
      "metadata": {
        "id": "DPIXTcNMyeQZ"
      },
      "outputs": [],
      "source": [
        "# Run prediction on set of test images and save results (Hint: Use model.predict() and the parameter save=True)\n",
        "\n",
        "## YOUR CODE HERE ##"
      ]
    }
  ],
  "metadata": {
    "accelerator": "GPU",
    "colab": {
      "collapsed_sections": [
        "ncuZk510r-dy"
      ],
      "gpuType": "T4",
      "provenance": []
    },
    "kernelspec": {
      "display_name": "Python 3",
      "name": "python3"
    },
    "language_info": {
      "name": "python"
    }
  },
  "nbformat": 4,
  "nbformat_minor": 0
}