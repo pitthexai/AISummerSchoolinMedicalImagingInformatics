{
  "nbformat": 4,
  "nbformat_minor": 0,
  "metadata": {
    "colab": {
      "provenance": []
    },
    "kernelspec": {
      "name": "python3",
      "display_name": "Python 3"
    }
  },
  "cells": [
    {
      "cell_type": "code",
      "metadata": {
        "id": "3R09DoQKi25c",
        "colab": {
          "base_uri": "https://localhost:8080/"
        },
        "outputId": "1fe49fb5-2e3a-42e4-dbb8-d8f1a9ddaada"
      },
      "source": [
        "from google.colab import drive\n",
        "drive.mount('/content/drive')"
      ],
      "execution_count": 1,
      "outputs": [
        {
          "output_type": "stream",
          "name": "stdout",
          "text": [
            "Mounted at /content/drive\n"
          ]
        }
      ]
    },
    {
      "cell_type": "code",
      "metadata": {
        "id": "C7zk-eMlj2I1"
      },
      "source": [
        "import cv2\n",
        "import numpy as np\n",
        "from google.colab.patches import cv2_imshow"
      ],
      "execution_count": 2,
      "outputs": []
    },
    {
      "cell_type": "code",
      "metadata": {
        "id": "SgtifQmHdyOS"
      },
      "source": [
        "original_img = cv2.imread('/content/drive/My Drive/AISummerSchool2024/pitt.png')"
      ],
      "execution_count": 3,
      "outputs": []
    },
    {
      "cell_type": "code",
      "metadata": {
        "id": "UZw-Va55kGd0"
      },
      "source": [
        "original_img.shape\n",
        "cv2_imshow(original_img)\n",
        "cv2.waitKey(0)\n",
        "cv2.destroyAllWindows()"
      ],
      "execution_count": null,
      "outputs": []
    },
    {
      "cell_type": "code",
      "metadata": {
        "id": "FBte7BqckNuy"
      },
      "source": [
        "# Scaling down the original image\n",
        "scale_percent = 70\n",
        "\n",
        "#calculate the 70 percent of original image dimensions\n",
        "resize_scaledown_width = int(original_img.shape[1] * scale_percent / 100)\n",
        "resize_scaledown_height = int(original_img.shape[0] * scale_percent / 100)\n",
        "\n",
        "resize_scaledown_img = cv2.resize(original_img,(resize_scaledown_width, resize_scaledown_height))\n",
        "\n",
        "print('Resize Scaledown Image Width: ', resize_scaledown_width)\n",
        "print ('Resize Scaledown Image Height: ', resize_scaledown_height)\n",
        "cv2.imwrite('/content/drive/My Drive/HI2454/pitt_V2.png', resize_scaledown_img)\n",
        "cv2_imshow(resize_scaledown_img)\n",
        "cv2.waitKey(0)\n",
        "cv2.destroyAllWindows()"
      ],
      "execution_count": null,
      "outputs": []
    },
    {
      "cell_type": "code",
      "metadata": {
        "id": "gsWwAIYD7Rdi"
      },
      "source": [
        "grayscale_img = cv2.cvtColor(resize_scaledown_img, cv2.COLOR_BGR2GRAY)\n",
        "#rotating image -> +45 degree\n",
        "M = cv2.getRotationMatrix2D(((grayscale_img.shape[1])/2.0,(grayscale_img.shape[0])/2.0),45,1)\n",
        "rotated_img = cv2.warpAffine(grayscale_img,M,(grayscale_img.shape[1],grayscale_img.shape[0]))\n",
        "cv2_imshow(rotated_img)\n",
        "cv2.waitKey(0)\n",
        "cv2.destroyAllWindows()"
      ],
      "execution_count": null,
      "outputs": []
    },
    {
      "cell_type": "code",
      "metadata": {
        "id": "dJ24sGFArFez"
      },
      "source": [
        "grayscale_img = cv2.cvtColor(resize_scaledown_img, cv2.COLOR_BGR2GRAY)\n",
        "\n",
        "from matplotlib import pyplot as plt\n",
        "plt.figure(figsize = (10,10))\n",
        "\n",
        "#binary thresholding (global thresholding)\n",
        "ret,th1 = cv2.threshold(grayscale_img,127,255,cv2.THRESH_BINARY)\n",
        "\n",
        "#adaptive thresholding (mean or gussian)\n",
        "th2 = cv2.adaptiveThreshold(grayscale_img,255,cv2.ADAPTIVE_THRESH_MEAN_C,\\\n",
        "            cv2.THRESH_BINARY,11,2)\n",
        "th3 = cv2.adaptiveThreshold(grayscale_img,255,cv2.ADAPTIVE_THRESH_GAUSSIAN_C,\\\n",
        "            cv2.THRESH_BINARY,11,2)\n",
        "\n",
        "titles = ['Original Image', 'Global Thresholding (v = 127)',\n",
        "            'Adaptive Mean Thresholding', 'Adaptive Gaussian Thresholding']\n",
        "images = [grayscale_img, th1, th2, th3]\n",
        "for i in range(4):\n",
        "    plt.subplot(2,2,i+1),plt.imshow(images[i],'gray')\n",
        "    plt.title(titles[i])\n",
        "    plt.xticks([]),plt.yticks([])\n",
        "plt.show()"
      ],
      "execution_count": null,
      "outputs": []
    },
    {
      "cell_type": "code",
      "metadata": {
        "id": "54hN3XcAKHhQ"
      },
      "source": [
        "image1 = cv2.imread('/content/drive/My Drive/AISummerSchool2024/pitt.png')\n",
        "image2 = cv2.imread('/content/drive/My Drive/AISummerSchool2024/pitt.png')\n",
        "plt.figure(figsize = (10,10))\n",
        "\n",
        "sum_Img = cv2.add(image1,image2)\n",
        "weightedSum_Img = cv2.addWeighted(image1, 0.5, image2, 0.4, 0)\n",
        "\n",
        "titles = ['Image #1', 'Image #2',\n",
        "            'Addition', 'Weighted Addition']\n",
        "images = [image1, image2, sum_Img, weightedSum_Img]\n",
        "for i in range(4):\n",
        "    plt.subplot(2,2,i+1),plt.imshow(cv2.cvtColor(images[i], cv2.COLOR_BGR2RGB))\n",
        "    plt.title(titles[i])\n",
        "    plt.xticks([]),plt.yticks([])\n",
        "plt.show()"
      ],
      "execution_count": null,
      "outputs": []
    }
  ]
}