{
  "nbformat": 4,
  "nbformat_minor": 0,
  "metadata": {
    "colab": {
      "provenance": [],
      "gpuType": "T4"
    },
    "kernelspec": {
      "name": "python3",
      "display_name": "Python 3"
    },
    "language_info": {
      "name": "python"
    },
    "accelerator": "GPU"
  },
  "cells": [
    {
      "cell_type": "code",
      "source": [
        "!pip install ultralytics ttach"
      ],
      "metadata": {
        "id": "V2GPBc8Msxyy"
      },
      "execution_count": null,
      "outputs": []
    },
    {
      "cell_type": "code",
      "execution_count": null,
      "metadata": {
        "id": "YOkPPr8zrpm7"
      },
      "outputs": [],
      "source": [
        "import numpy as np\n",
        "import pandas as pd\n",
        "import regex as re\n",
        "import os\n",
        "import shutil\n",
        "\n",
        "from PIL import Image\n",
        "\n",
        "from ultralytics import YOLO\n",
        "\n",
        "import yaml"
      ]
    },
    {
      "cell_type": "markdown",
      "source": [],
      "metadata": {
        "id": "T8KgQBP9-uGf"
      }
    },
    {
      "cell_type": "code",
      "source": [
        "!unzip BoneFracture.zip"
      ],
      "metadata": {
        "id": "8qHEe4LM7cPQ"
      },
      "execution_count": null,
      "outputs": []
    },
    {
      "cell_type": "code",
      "source": [
        "from ultralytics import YOLO\n",
        "\n",
        "# Load a pretrained YOLOv9 model\n",
        "model = YOLO(\"yolov9c.pt\")"
      ],
      "metadata": {
        "id": "81ABX-4Pt73y"
      },
      "execution_count": null,
      "outputs": []
    },
    {
      "cell_type": "code",
      "source": [
        "# Train on  dataset\n",
        "# Verify the correct path to your data.yaml file\n",
        "data_yaml_path = f'BoneFracture/data.yaml'\n",
        "print(f\"Checking for data.yaml at: {data_yaml_path}\")\n",
        "\n",
        "if os.path.exists(data_yaml_path):\n",
        "    print(\"data.yaml found. Proceeding with training.\")\n",
        "    # Train on few-shot dataset\n",
        "    metrics = model.train(data=data_yaml_path, epochs=30)\n",
        "else:\n",
        "    print(\"data.yaml not found. Please check the path and ensure the file exists.\")"
      ],
      "metadata": {
        "id": "rx7RQeti7URf"
      },
      "execution_count": null,
      "outputs": []
    },
    {
      "cell_type": "code",
      "source": [
        "metrics = model.val(data=data_yaml_path, split=\"val\")  # evaluate model performance on the validation set"
      ],
      "metadata": {
        "id": "JiVOpVut9x7d"
      },
      "execution_count": null,
      "outputs": []
    },
    {
      "cell_type": "code",
      "source": [
        "results = model.val(data=data_yaml_path, split=\"test\")"
      ],
      "metadata": {
        "id": "GjqKYD5E71qZ"
      },
      "execution_count": null,
      "outputs": []
    },
    {
      "cell_type": "code",
      "source": [
        "for image in os.listdir(\"/content/BoneFracture/test/images\"):\n",
        "    result = model.predict(f\"/content/BoneFracture/test/images/{image}\")\n",
        "    if result[0].boxes.data.shape[0] > 0:\n",
        "        print(result[0].boxes.data)"
      ],
      "metadata": {
        "id": "fsY0wVP6BptC"
      },
      "execution_count": null,
      "outputs": []
    },
    {
      "cell_type": "code",
      "source": [
        "result = model.predict(\"/content/BoneFracture/test/images/image1_848_png.rf.7425349abaf35f2c4f2ec933322517c3.jpg\")"
      ],
      "metadata": {
        "id": "bzdNDgoRRTsK"
      },
      "execution_count": null,
      "outputs": []
    },
    {
      "cell_type": "markdown",
      "source": [],
      "metadata": {
        "id": "RQmRMRW3Atr3"
      }
    }
  ]
}