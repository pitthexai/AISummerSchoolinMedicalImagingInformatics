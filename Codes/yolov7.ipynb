{
  "nbformat": 4,
  "nbformat_minor": 0,
  "metadata": {
    "colab": {
      "provenance": []
    },
    "kernelspec": {
      "name": "python3",
      "display_name": "Python 3"
    },
    "language_info": {
      "name": "python"
    },
    "accelerator": "GPU",
    "gpuClass": "standard"
  },
  "cells": [
    {
      "cell_type": "code",
      "source": [
        "# Download YOLOv7 repository and install requirements\n",
        "\n",
        "# %cd /content/gdrive/MyDrive/GoogleColabProjects/oai/yolo_localization\n",
        "!git clone https://github.com/WongKinYiu/yolov7\n",
        "%cd yolov7\n",
        "!pip install -r requirements.txt"
      ],
      "metadata": {
        "id": "Q6DJV0Cdl1-9"
      },
      "execution_count": null,
      "outputs": []
    },
    {
      "cell_type": "code",
      "source": [
        "!pip install roboflow\n",
        "\n",
        "from roboflow import Roboflow\n",
        "rf = Roboflow(api_key=\"LedIXO6IeBdnpZKATilQ\")\n",
        "project = rf.workspace(\"minisummercamp2023\").project(\"tka-localization\")\n",
        "dataset = project.version(1).download(\"yolov7\")"
      ],
      "metadata": {
        "id": "0uPysixmmn0v"
      },
      "execution_count": null,
      "outputs": []
    },
    {
      "cell_type": "code",
      "source": [
        "%%bash\n",
        "wget -P /content/yolov7 https://github.com/WongKinYiu/yolov7/releases/download/v0.1/yolov7.pt"
      ],
      "metadata": {
        "id": "B47AkVYLqTbR"
      },
      "execution_count": null,
      "outputs": []
    },
    {
      "cell_type": "code",
      "source": [
        "!python train.py --batch 16 --cfg cfg/training/yolov7.yaml --epochs 100 --data /content/yolov7/TKA-Localization-1/data.yaml --weights 'yolov7.pt' --device 0"
      ],
      "metadata": {
        "id": "KIM_N1mGqn7Y"
      },
      "execution_count": null,
      "outputs": []
    },
    {
      "cell_type": "code",
      "source": [
        "# Run evaluation\n",
        "!python detect.py --weights runs/train/exp3/weights/best.pt --conf 0.75 --source TKA-Localization-1/test/images --save-txt --save-conf"
      ],
      "metadata": {
        "id": "yVqNVB5jsZJi"
      },
      "execution_count": null,
      "outputs": []
    },
    {
      "cell_type": "code",
      "source": [
        "! pip install pybboxes\n",
        "import pybboxes as pbx"
      ],
      "metadata": {
        "id": "khc0VSMfvp60"
      },
      "execution_count": null,
      "outputs": []
    },
    {
      "cell_type": "code",
      "source": [
        "exp= \"exp5\"\n",
        "annot_name=\"04157002_jpg.rf.d3fac05311bf219a9854b0bf796a533e.txt\"\n",
        "ground_truth_dir = f\"/content/yolov7/TKA-Localization-1/test/labels/{annot_name}\"\n",
        "exp_dir = f\"/content/yolov7/runs/detect/{exp}/labels/{annot_name}\"\n",
        "\n",
        "conf_thresh = 0.7\n",
        "W, H = 640, 640\n",
        "\n",
        "with open(ground_truth_dir, \"r\") as f:\n",
        "    cls = {}\n",
        "    lines = f.readlines()\n",
        "    for f in lines:\n",
        "        c, x, y, w, h = [float(x) for x in f.split()]\n",
        "        cls[c] = pbx.convert_bbox((x, y, w, h), from_type=\"yolo\", to_type=\"voc\", image_size=(W, H))\n",
        "\n",
        "with open(exp_dir, \"r\") as f:\n",
        "    preds = {}\n",
        "    lines = f.readlines()\n",
        "    for f in lines:\n",
        "        c, x, y, w, h, conf_lvl = [float(x) for x in f.split()]\n",
        "\n",
        "        # Don't care about pred if this is true\n",
        "        if conf_lvl <= conf_thresh:\n",
        "            continue\n",
        "\n",
        "        if c in preds:\n",
        "            p = preds[c]\n",
        "            p.append(pbx.convert_bbox((x, y, w, h), from_type=\"yolo\", to_type=\"voc\", image_size=(W, H)))\n",
        "            preds[c] = p\n",
        "        else:\n",
        "            preds[c] = [pbx.convert_bbox((x, y, w, h), from_type=\"yolo\", to_type=\"voc\", image_size=(W, H))]\n",
        "\n"
      ],
      "metadata": {
        "id": "rwYVYfgnkmfP"
      },
      "execution_count": 81,
      "outputs": []
    },
    {
      "cell_type": "code",
      "source": [
        "preds"
      ],
      "metadata": {
        "colab": {
          "base_uri": "https://localhost:8080/"
        },
        "id": "gxIkExuYoNoH",
        "outputId": "40f9576b-8d45-46d8-bcb4-6e6dc8df9dec"
      },
      "execution_count": 82,
      "outputs": [
        {
          "output_type": "execute_result",
          "data": {
            "text/plain": [
              "{0.0: [(44, 263, 218, 460), (443, 251, 608, 459)]}"
            ]
          },
          "metadata": {},
          "execution_count": 82
        }
      ]
    },
    {
      "cell_type": "code",
      "source": [
        "import numpy as np\n",
        "def calc_intersection_area(bbox1_xmin, bbox2_xmin, bbox1_ymin, bbox2_ymin, bbox1_xmax,\n",
        "                           bbox2_xmax, bbox1_ymax, bbox2_ymax):\n",
        "    # determine the (x, y)-coordinates of the intersection rectangle\n",
        "    inter_xMin = max(bbox1_xmin, bbox2_xmin)\n",
        "    inter_yMin = max(bbox1_ymin, bbox2_ymin)\n",
        "\n",
        "    inter_xMax = min(bbox1_xmax, bbox2_xmax)\n",
        "    inter_yMax = min(bbox1_ymax, bbox2_ymax)\n",
        "\n",
        "    if inter_xMax < inter_xMin or inter_yMax < inter_yMin:\n",
        "        return 0.0\n",
        "\n",
        "    # return the area of intersection rectangle\n",
        "    return max(0, np.abs(inter_xMax - inter_xMin)) * max(0, np.abs(inter_yMax - inter_yMin))\n"
      ],
      "metadata": {
        "id": "4QDs_mBCmZ49"
      },
      "execution_count": 89,
      "outputs": []
    },
    {
      "cell_type": "code",
      "source": [
        "for pred, bboxes in preds.items():\n",
        "    gt = cls[pred]\n",
        "    if type(gt) == tuple:\n",
        "        x1_min, y1_min, x2_max, y2_max = cls[pred]\n",
        "\n",
        "        for bbox in bboxes:\n",
        "            x3_min, y3_min, x4_max, y4_max = bbox\n",
        "            intersection = calc_intersection_area(x1_min, x3_min, y1_min, y3_min, x2_max,\n",
        "                            x4_max, y2_max, y4_max)\n",
        "            annot1_area = np.abs((x2_max - x1_min) * (y2_max - y1_min))\n",
        "            annot2_area = np.abs((x4_max - x3_min) * (y4_max - y3_min))\n",
        "            iou = intersection / (annot1_area + annot2_area - intersection)\n",
        "            print(pred, iou)\n",
        "    else:\n",
        "        max_iou = 0\n",
        "        for gt in cls[pred]:\n",
        "            x1_min, y1_min, x2_max, y2_max = gt\n",
        "            for bbox in bboxes:\n",
        "                x3_min, y3_min, x4_max, y4_max = bbox\n",
        "                intersection = calc_intersection_area(x1_min, x3_min, y1_min, y3_min, x2_max,\n",
        "                                x4_max, y2_max, y4_max)\n",
        "\n",
        "                annot1_area = np.abs((x2_max - x1_min) * (y2_max - y1_min))\n",
        "                annot2_area = np.abs((x4_max - x3_min) * (y4_max - y3_min))\n",
        "\n",
        "                iou = intersection / (annot1_area + annot2_area - intersection)\n",
        "                if iou > max_iou:\n",
        "                    max_iou = iou\n",
        "        print(pred, iou)\n"
      ],
      "metadata": {
        "id": "9PSCnAMApmY1"
      },
      "execution_count": null,
      "outputs": []
    }
  ]
}