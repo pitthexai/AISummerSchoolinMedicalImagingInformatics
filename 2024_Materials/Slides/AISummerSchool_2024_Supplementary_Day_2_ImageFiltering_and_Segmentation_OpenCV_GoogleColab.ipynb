{
  "nbformat": 4,
  "nbformat_minor": 0,
  "metadata": {
    "colab": {
      "provenance": []
    },
    "kernelspec": {
      "name": "python3",
      "display_name": "Python 3"
    }
  },
  "cells": [
    {
      "cell_type": "code",
      "metadata": {
        "id": "3R09DoQKi25c"
      },
      "source": [
        "from google.colab import drive\n",
        "drive.mount('/content/drive')"
      ],
      "execution_count": null,
      "outputs": []
    },
    {
      "cell_type": "code",
      "metadata": {
        "id": "C7zk-eMlj2I1"
      },
      "source": [
        "import cv2  # OpenCV (Open Computer Vision)\n",
        "import numpy as np\n",
        "from google.colab.patches import cv2_imshow\n",
        "import matplotlib.pyplot as plt"
      ],
      "execution_count": 2,
      "outputs": []
    },
    {
      "cell_type": "code",
      "metadata": {
        "id": "SgtifQmHdyOS"
      },
      "source": [
        "original_img = cv2.imread('/content/drive/My Drive/AISummerSchool2024/pitt.png')"
      ],
      "execution_count": 7,
      "outputs": []
    },
    {
      "cell_type": "code",
      "metadata": {
        "id": "UZw-Va55kGd0"
      },
      "source": [
        "original_img.shape\n",
        "cv2_imshow(original_img)\n",
        "cv2.waitKey(0)\n",
        "cv2.destroyAllWindows()"
      ],
      "execution_count": null,
      "outputs": []
    },
    {
      "cell_type": "code",
      "source": [
        "# Histogtam\n",
        "# Convert BGR to RGB\n",
        "image_rgb = cv2.cvtColor(original_img, cv2.COLOR_BGR2RGB)\n",
        "\n",
        "# Split the image into its RGB channels\n",
        "r, g, b = cv2.split(image_rgb)\n",
        "\n",
        "# Plot histograms for each channel\n",
        "plt.figure(figsize=(8, 3))\n",
        "\n",
        "plt.subplot(1, 3, 1)\n",
        "plt.hist(r.ravel(), color='r', bins=256, alpha=0.5)\n",
        "plt.xlabel('Red Intensity')\n",
        "plt.ylabel('Frequency')\n",
        "plt.title('Red Channel')\n",
        "\n",
        "plt.subplot(1, 3, 2)\n",
        "plt.hist(g.ravel(), color='g', bins=256, alpha=0.5)\n",
        "plt.xlabel('Green Intensity')\n",
        "plt.ylabel('Frequency')\n",
        "plt.title('Green Channel')\n",
        "\n",
        "plt.subplot(1, 3, 3)\n",
        "plt.hist(b.ravel(), color='b', bins=256, alpha=0.5)\n",
        "plt.xlabel('Blue Intensity')\n",
        "plt.ylabel('Frequency')\n",
        "plt.title('Blue Channel')\n",
        "\n",
        "plt.tight_layout()\n",
        "plt.show()"
      ],
      "metadata": {
        "id": "LjdxOh6qPZ-p"
      },
      "execution_count": null,
      "outputs": []
    },
    {
      "cell_type": "code",
      "source": [
        "# Edge detectiom using Canny algorithm\n",
        "\n",
        "gray_image = cv2.cvtColor(image_rgb, cv2.COLOR_BGR2GRAY)\n",
        "\n",
        "# Apply Canny edge detection\n",
        "# Adjust thresholds as needed\n",
        "edges = cv2.Canny(gray_image, threshold1=10, threshold2=20)\n",
        "\n",
        "# Display the original RGB image and the detected edges\n",
        "plt.figure(figsize=(8, 3))\n",
        "\n",
        "plt.subplot(1, 2, 1)\n",
        "plt.imshow(image_rgb)\n",
        "plt.title('Original RGB Image')\n",
        "plt.axis('off')\n",
        "\n",
        "plt.subplot(1, 2, 2)\n",
        "plt.imshow(edges, cmap='gray')\n",
        "plt.title('Edge Detection')\n",
        "plt.axis('off')\n",
        "\n",
        "plt.tight_layout()\n",
        "plt.show()"
      ],
      "metadata": {
        "id": "HUucp9_-b4EM"
      },
      "execution_count": null,
      "outputs": []
    },
    {
      "cell_type": "code",
      "source": [
        "# Edge detection using Sobel algorithm\n",
        "\n",
        "gray_image = cv2.cvtColor(image_rgb, cv2.COLOR_BGR2GRAY)\n",
        "\n",
        "# Apply Sobel edge detection\n",
        "sobel_x = cv2.Sobel(gray_image, cv2.CV_64F, 1, 0, ksize=3)\n",
        "sobel_y = cv2.Sobel(gray_image, cv2.CV_64F, 0, 1, ksize=3)\n",
        "\n",
        "# Combine the horizontal and vertical edges\n",
        "sobel_edges = np.sqrt(sobel_x ** 2 + sobel_y ** 2)\n",
        "\n",
        "# Display the original RGB image and the detected edges using Sobel\n",
        "plt.figure(figsize=(8, 35))\n",
        "\n",
        "plt.subplot(1, 2, 1)\n",
        "plt.imshow(image_rgb)\n",
        "plt.title('Original RGB Image')\n",
        "plt.axis('off')\n",
        "\n",
        "plt.subplot(1, 2, 2)\n",
        "plt.imshow(sobel_edges, cmap='gray')\n",
        "plt.title('Edge Detection using Sobel')\n",
        "plt.axis('off')\n",
        "\n",
        "plt.tight_layout()\n",
        "plt.show()"
      ],
      "metadata": {
        "id": "3zpGMGwddlmN"
      },
      "execution_count": null,
      "outputs": []
    },
    {
      "cell_type": "code",
      "source": [
        "knee_img = cv2.imread('/content/drive/My Drive/AISummerSchool2024/knee_lateral.jpeg')\n",
        "height, width, channels = knee_img.shape\n",
        "\n",
        "# Print the dimensions\n",
        "print(\"Width:\", width)\n",
        "print(\"Height:\", height)\n",
        "print(\"Number of channels:\", channels)"
      ],
      "metadata": {
        "id": "vj3att23eUsp"
      },
      "execution_count": null,
      "outputs": []
    },
    {
      "cell_type": "code",
      "source": [
        "# Edge detection of the knee radiograph using Sobel algorithm\n",
        "\n",
        "gray_image = cv2.cvtColor(knee_img, cv2.COLOR_BGR2GRAY)\n",
        "\n",
        "# Apply Sobel edge detection\n",
        "sobel_x = cv2.Sobel(gray_image, cv2.CV_64F, 1, 0, ksize=3)\n",
        "sobel_y = cv2.Sobel(gray_image, cv2.CV_64F, 0, 1, ksize=3)\n",
        "\n",
        "# Combine the horizontal and vertical edges\n",
        "sobel_edges = np.sqrt(sobel_x ** 2 + sobel_y ** 2)\n",
        "\n",
        "# Display the original RGB image and the detected edges using Sobel\n",
        "plt.figure(figsize=(6, 25))\n",
        "\n",
        "plt.subplot(1, 2, 1)\n",
        "plt.imshow(knee_img)\n",
        "plt.title('Original RGB Image')\n",
        "plt.axis('off')\n",
        "\n",
        "plt.subplot(1, 2, 2)\n",
        "plt.imshow(sobel_edges, cmap='gray')\n",
        "plt.title('Edge Detection using Sobel')\n",
        "plt.axis('off')\n",
        "\n",
        "plt.tight_layout()\n",
        "plt.show()"
      ],
      "metadata": {
        "id": "xcybjXPie9FW"
      },
      "execution_count": null,
      "outputs": []
    },
    {
      "cell_type": "code",
      "source": [
        "#Image Segmentation"
      ],
      "metadata": {
        "id": "pKQ1dTz3KQ4c"
      },
      "execution_count": null,
      "outputs": []
    },
    {
      "cell_type": "code",
      "source": [
        "img = cv2.imread('/content/drive/My Drive/AISummerSchool2024/sample.jpg')\n",
        "gray = cv2.cvtColor(img,cv2.COLOR_BGR2GRAY)\n",
        "ret, thresh = cv2.threshold(gray,0,255,cv2.THRESH_BINARY_INV+cv2.THRESH_OTSU)"
      ],
      "metadata": {
        "id": "SNCP0U4GKTtb"
      },
      "execution_count": 14,
      "outputs": []
    },
    {
      "cell_type": "code",
      "source": [
        "cv2_imshow(img)\n",
        "cv2.waitKey(0)\n",
        "cv2.destroyAllWindows()"
      ],
      "metadata": {
        "id": "YM9t86ksKbBa"
      },
      "execution_count": null,
      "outputs": []
    },
    {
      "cell_type": "code",
      "source": [
        "cv2_imshow(thresh)\n",
        "cv2.waitKey(0)\n",
        "cv2.destroyAllWindows()"
      ],
      "metadata": {
        "id": "sa7noqiNKeia"
      },
      "execution_count": null,
      "outputs": []
    },
    {
      "cell_type": "code",
      "source": [
        "# noise removal\n",
        "kernel = np.ones((3,3),np.uint8)\n",
        "opening = cv2.morphologyEx(thresh,cv2.MORPH_OPEN,kernel, iterations = 2)\n",
        "\n",
        "# sure background area\n",
        "sure_bg = cv2.dilate(opening,kernel,iterations=3)\n",
        "\n",
        "# Finding sure foreground area\n",
        "dist_transform = cv2.distanceTransform(opening,cv2.DIST_L2,5)\n",
        "ret, sure_fg = cv2.threshold(dist_transform,0.7*dist_transform.max(),255,0)\n",
        "\n",
        "# Finding unknown region\n",
        "sure_fg = np.uint8(sure_fg)\n",
        "unknown = cv2.subtract(sure_bg,sure_fg)\n",
        "\n",
        "# Marker labelling\n",
        "ret, markers = cv2.connectedComponents(sure_fg)\n",
        "\n",
        "# Add one to all labels so that sure background is not 0, but 1\n",
        "markers = markers+1\n",
        "\n",
        "# Now, mark the region of unknown with zero\n",
        "markers[unknown==255] = 0\n",
        "markers = cv2.watershed(img,markers)\n",
        "img[markers == -1] = [0,0,255]"
      ],
      "metadata": {
        "id": "G2ONkdcgKhhq"
      },
      "execution_count": 17,
      "outputs": []
    },
    {
      "cell_type": "code",
      "source": [
        "# Display the segmented image\n",
        "cv2_imshow(img)\n",
        "cv2.waitKey(0)\n",
        "cv2.destroyAllWindows()"
      ],
      "metadata": {
        "id": "RIBg0EY8Kkd6"
      },
      "execution_count": null,
      "outputs": []
    }
  ]
}