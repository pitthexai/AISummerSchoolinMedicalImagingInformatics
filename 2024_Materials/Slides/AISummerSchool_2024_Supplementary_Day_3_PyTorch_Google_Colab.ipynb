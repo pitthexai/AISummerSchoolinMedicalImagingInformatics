{
  "nbformat": 4,
  "nbformat_minor": 0,
  "metadata": {
    "colab": {
      "provenance": [],
      "machine_shape": "hm",
      "gpuType": "T4"
    },
    "kernelspec": {
      "name": "python3",
      "display_name": "Python 3"
    },
    "language_info": {
      "name": "python"
    },
    "accelerator": "GPU"
  },
  "cells": [
    {
      "cell_type": "code",
      "execution_count": null,
      "metadata": {
        "id": "_B7cBcijr5fW"
      },
      "outputs": [],
      "source": [
        "import numpy as np\n",
        "import torch\n",
        "\n",
        "print(\"Using torch\", torch.__version__)\n"
      ]
    },
    {
      "cell_type": "markdown",
      "source": [
        "## Creating a tensor"
      ],
      "metadata": {
        "id": "Rf6ZuO2r-NmL"
      }
    },
    {
      "cell_type": "code",
      "source": [
        "# Create a tensor with random values between 0 and 1 with the shape [2, 3, 4]\n",
        "x = torch.rand(2, 3, 4)\n",
        "print(x)"
      ],
      "metadata": {
        "id": "hiUpEst0r9sb"
      },
      "execution_count": null,
      "outputs": []
    },
    {
      "cell_type": "code",
      "source": [
        "# Get shape of tensor\n",
        "shape = x.shape\n",
        "print(\"Shape:\", x.shape)\n",
        "\n",
        "size = x.size()\n",
        "print(\"Size:\", size)\n",
        "\n",
        "dim1, dim2, dim3 = x.size()\n",
        "print(\"Size:\", dim1, dim2, dim3)"
      ],
      "metadata": {
        "id": "ki5B1UU69TDv"
      },
      "execution_count": null,
      "outputs": []
    },
    {
      "cell_type": "code",
      "source": [
        "x.device"
      ],
      "metadata": {
        "id": "6pigla9D9W4Z"
      },
      "execution_count": null,
      "outputs": []
    },
    {
      "cell_type": "code",
      "source": [
        "x.dtype"
      ],
      "metadata": {
        "id": "dQFm_wXj9cNx"
      },
      "execution_count": null,
      "outputs": []
    },
    {
      "cell_type": "markdown",
      "source": [
        "## Reshaping a tensor"
      ],
      "metadata": {
        "id": "DgeQdQ8L-RY0"
      }
    },
    {
      "cell_type": "code",
      "source": [
        "W = torch.arange(9) # We can also stack multiple operations in a single line\n",
        "print(\"W\", W)"
      ],
      "metadata": {
        "id": "PTw1wn7-9dpv"
      },
      "execution_count": null,
      "outputs": []
    },
    {
      "cell_type": "code",
      "source": [
        "W = W.view(3, 3) # Reshape to 3x3 matrix\n",
        "print(\"W\", W)"
      ],
      "metadata": {
        "id": "2dXcFyDb93og"
      },
      "execution_count": null,
      "outputs": []
    },
    {
      "cell_type": "code",
      "source": [
        "W = torch.arange(9).view(3, 3) # stack multiple operations in a single line\n",
        "print(\"W\", W)"
      ],
      "metadata": {
        "id": "kYuNsFAQ96CL"
      },
      "execution_count": null,
      "outputs": []
    },
    {
      "cell_type": "markdown",
      "source": [
        "## Indexing a Tensor"
      ],
      "metadata": {
        "id": "FLI6Uwil-UU1"
      }
    },
    {
      "cell_type": "code",
      "source": [
        "print(W[:, 1])   # Second column\n"
      ],
      "metadata": {
        "id": "NocGip1D-DJS"
      },
      "execution_count": null,
      "outputs": []
    },
    {
      "cell_type": "code",
      "source": [
        "print(W[0])      # First row"
      ],
      "metadata": {
        "id": "GfxaOAs0-JPa"
      },
      "execution_count": null,
      "outputs": []
    },
    {
      "cell_type": "code",
      "source": [
        "print(W[:2, -1]) # First two rows, last column"
      ],
      "metadata": {
        "id": "EZVBVlq--ZGe"
      },
      "execution_count": null,
      "outputs": []
    },
    {
      "cell_type": "code",
      "source": [
        "print(W[1:3, :]) # Middle two rows\n"
      ],
      "metadata": {
        "id": "Cuxi7G4M-cO5"
      },
      "execution_count": null,
      "outputs": []
    },
    {
      "cell_type": "markdown",
      "source": [
        "## Tensor Operations"
      ],
      "metadata": {
        "id": "fRSytMyr--Ax"
      }
    },
    {
      "cell_type": "code",
      "source": [
        "# Adding matrices\n",
        "x1 = torch.rand(2, 3)\n",
        "x2 = torch.rand(2, 3)\n",
        "y = x1 + x2\n",
        "\n",
        "print(\"X1\", x1)\n",
        "print(\"X2\", x2)\n",
        "print(\"Y\", y)"
      ],
      "metadata": {
        "id": "nuhzjk4j-sig"
      },
      "execution_count": null,
      "outputs": []
    },
    {
      "cell_type": "code",
      "source": [
        "# Matrix Multiplication\n",
        "x = torch.arange(6)\n",
        "x = x.view(2, 3)\n",
        "print(\"X\", x)\n",
        "print(\"W\", W)\n",
        "\n",
        "h = torch.matmul(x, W)\n",
        "print(\"h\", h)"
      ],
      "metadata": {
        "id": "_gEdOaPx_Bi3"
      },
      "execution_count": null,
      "outputs": []
    },
    {
      "cell_type": "code",
      "source": [
        "##"
      ],
      "metadata": {
        "id": "cJLxqFYL_82A"
      },
      "execution_count": null,
      "outputs": []
    },
    {
      "cell_type": "markdown",
      "source": [
        "## Training a Neural Network"
      ],
      "metadata": {
        "id": "USkyfX_4_9zg"
      }
    },
    {
      "cell_type": "code",
      "source": [
        "import torch.optim as opt\n",
        "import torch.nn as nn\n",
        "import torchvision\n",
        "from torchvision import datasets, models, transforms"
      ],
      "metadata": {
        "id": "I409i1_y_IWz"
      },
      "execution_count": null,
      "outputs": []
    },
    {
      "cell_type": "code",
      "source": [
        "train_data = torchvision.datasets.GTSRB(\"/content\", split=\"train\", download=True, transform = transforms.Compose([transforms.ToTensor(),\n",
        "                                                                                               transforms.Resize((224,224))]))\n",
        "test_data = torchvision.datasets.GTSRB(\"/content\", split=\"test\", download=True, transform = transforms.Compose([transforms.ToTensor(),\n",
        "                                                                                               transforms.Resize((224,224))]))"
      ],
      "metadata": {
        "id": "4vc9VGWR_7ly"
      },
      "execution_count": null,
      "outputs": []
    },
    {
      "cell_type": "code",
      "source": [],
      "metadata": {
        "id": "xFnqVilYBc9X"
      },
      "execution_count": null,
      "outputs": []
    },
    {
      "cell_type": "code",
      "source": [
        "train_data"
      ],
      "metadata": {
        "id": "_1yES0ajJo-i"
      },
      "execution_count": null,
      "outputs": []
    },
    {
      "cell_type": "code",
      "source": [
        "import matplotlib.pyplot as plt\n",
        "figure = plt.figure(figsize=(8, 8))\n",
        "cols, rows = 5, 5\n",
        "\n",
        "for i in range(1, cols * rows + 1):\n",
        "    sample_idx = torch.randint(len(train_data), size=(1,)).item()\n",
        "    img, label = train_data[sample_idx]\n",
        "    figure.add_subplot(rows, cols, i)\n",
        "    plt.axis(\"off\")\n",
        "    plt.imshow(img.swapaxes(1, 2).swapaxes(0, 2)) # C, H, W -> W, H, C\n",
        "plt.show()"
      ],
      "metadata": {
        "id": "Oe_jgnFsBjg5"
      },
      "execution_count": null,
      "outputs": []
    },
    {
      "cell_type": "code",
      "source": [
        "# Dataloader\n",
        "train_dl = torch.utils.data.DataLoader(train_data, batch_size=32, shuffle=True)\n",
        "test_dl = torch.utils.data.DataLoader(train_data, batch_size=32, shuffle=True)"
      ],
      "metadata": {
        "id": "myVxzMshBx5-"
      },
      "execution_count": null,
      "outputs": []
    },
    {
      "cell_type": "code",
      "source": [
        "# Model\n",
        "model = models.resnet18(weights=models.ResNet18_Weights.IMAGENET1K_V1)\n",
        "model"
      ],
      "metadata": {
        "id": "owOtcx28C3C2"
      },
      "execution_count": null,
      "outputs": []
    },
    {
      "cell_type": "code",
      "source": [
        "# Replace last layer\n",
        "model.fc = nn.Linear(model.fc.in_features, 43)"
      ],
      "metadata": {
        "id": "_HeZffQWDLjJ"
      },
      "execution_count": null,
      "outputs": []
    },
    {
      "cell_type": "code",
      "source": [
        "# Set optimizer, loss function, and learning rate\n",
        "lr = 0.0001\n",
        "loss_fn = nn.CrossEntropyLoss()\n",
        "optimizer = opt.SGD(model.parameters(), lr=lr)"
      ],
      "metadata": {
        "id": "bJX96wP4DpI2"
      },
      "execution_count": null,
      "outputs": []
    },
    {
      "cell_type": "code",
      "source": [
        "# Check GPU\n",
        "print(\"GPU Available: \", torch.cuda.is_available())"
      ],
      "metadata": {
        "id": "jtDC8JDCDX9L"
      },
      "execution_count": null,
      "outputs": []
    },
    {
      "cell_type": "code",
      "source": [
        "# Set device for training\n",
        "device = \"cuda\" if torch.cuda.is_available() else \"cpu\""
      ],
      "metadata": {
        "id": "RbwvP7LwDkF2"
      },
      "execution_count": null,
      "outputs": []
    },
    {
      "cell_type": "code",
      "source": [
        "# Move model to device\n",
        "model = model.to(device)"
      ],
      "metadata": {
        "id": "Sh7QGoZOENc7"
      },
      "execution_count": null,
      "outputs": []
    },
    {
      "cell_type": "code",
      "source": [
        "# Training\n",
        "for i in range(0, 10):\n",
        "    print(f\"Epoch {i+1}\\n-------------------------------\")\n",
        "\n",
        "    # Training\n",
        "    for batch, (X, y) in enumerate(train_dl):\n",
        "        # 1. Transfer data to device\n",
        "        X = X.to(device)\n",
        "        y = y.to(device)\n",
        "\n",
        "        # 2. Get model prediction\n",
        "        pred = model(X)\n",
        "\n",
        "        # 3. Calculate Loss\n",
        "        loss = loss_fn(pred, y)\n",
        "\n",
        "        # Zero out gradients for new calculation\n",
        "        optimizer.zero_grad()\n",
        "\n",
        "        # 4. Backpropagation\n",
        "        loss.backward()\n",
        "\n",
        "        # 5. Update model parameters\n",
        "        optimizer.step()\n",
        "\n",
        "        # Print loss\n",
        "        if batch % 100 == 0:\n",
        "            loss = loss.item()\n",
        "            print(f\"Training loss: {loss:>7f}\")\n",
        "\n",
        "    size = len(test_dl.dataset)\n",
        "    num_batches = len(test_dl)\n",
        "    test_loss, correct = 0, 0\n",
        "\n",
        "    with torch.no_grad():\n",
        "        for X, y in test_dl:\n",
        "            # 1. Transfer data to device\n",
        "            X = X.to(device)\n",
        "            y = y.to(device)\n",
        "\n",
        "            # 2. Get model prediction\n",
        "            pred = model(X)\n",
        "\n",
        "            # 3. Evaluate loss and accuracy\n",
        "            test_loss += loss_fn(pred, y).item()\n",
        "            correct += (pred.argmax(1) == y).type(torch.float).sum().item()\n",
        "\n",
        "    test_loss /= num_batches\n",
        "    correct /= size\n",
        "    print(f\"Test Error: \\n Accuracy: {(100*correct):>0.1f}%, Avg loss: {test_loss:>8f} \\n\")\n"
      ],
      "metadata": {
        "id": "DtGH5L7TEQOH"
      },
      "execution_count": null,
      "outputs": []
    },
    {
      "cell_type": "code",
      "source": [],
      "metadata": {
        "id": "aU0ZYBubGUyn"
      },
      "execution_count": null,
      "outputs": []
    }
  ]
}